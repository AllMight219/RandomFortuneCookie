{
  "nbformat": 4,
  "nbformat_minor": 0,
  "metadata": {
    "colab": {
      "provenance": [],
      "authorship_tag": "ABX9TyPeWoeQOYbFyPWKWtWn+RbU",
      "include_colab_link": true
    },
    "kernelspec": {
      "name": "python3",
      "display_name": "Python 3"
    },
    "language_info": {
      "name": "python"
    }
  },
  "cells": [
    {
      "cell_type": "markdown",
      "metadata": {
        "id": "view-in-github",
        "colab_type": "text"
      },
      "source": [
        "<a href=\"https://colab.research.google.com/github/AllMight219/RandomFortuneCookie/blob/main/FortuneCookie.ipynb\" target=\"_parent\"><img src=\"https://colab.research.google.com/assets/colab-badge.svg\" alt=\"Open In Colab\"/></a>"
      ]
    },
    {
      "cell_type": "code",
      "execution_count": 16,
      "metadata": {
        "colab": {
          "base_uri": "https://localhost:8080/"
        },
        "id": "h57rt7x8IQHG",
        "outputId": "4f78318f-df6d-4872-a195-8182abb999ed"
      },
      "outputs": [
        {
          "output_type": "stream",
          "name": "stdout",
          "text": [
            "Many That Live Deserve Death. Some That Die Deserve Life. Do Not Be Too Eager To Deal Out Death In Judgment. Even The Very Wise Cannot See All Ends.\n"
          ]
        }
      ],
      "source": [
        "import random\n",
        "\n",
        "##--------------------------------------------\n",
        "# list of furtune cookie sayings\n",
        "##    Your program does not use a list.  If you are\n",
        "##    supposed to use a list, then rewrite this code\n",
        "##    i.e. cookie_list=[one, two, three, four]\n",
        "##--------------------------------------------\n",
        "\n",
        "one = \"Quit, don't quit... Noodles, don't noodles... You are too concerned about what was and what will be. There is a saying: yesterday is history, tomorrow is a mystery, but today is a gift. That is why it is called the present.\"\n",
        "two = \"One often meets his destiny on the road he takes to avoid it.\"\n",
        "three = \"There are no accidents.\"\n",
        "four = \"If you have something worth fighting for, then fight for it.\"\n",
        "five = \"Many That Live Deserve Death. Some That Die Deserve Life. Do Not Be Too Eager To Deal Out Death In Judgment. Even The Very Wise Cannot See All Ends.\"\n",
        "\n",
        "# choosing one randomly\n",
        "cookie = random.randint(1, 5)\n",
        "if cookie == 1:\n",
        "    print(one)\n",
        "elif cookie==2:\n",
        "    print(two)\n",
        "if cookie == 3:\n",
        "    print(three)\n",
        "elif cookie==4:\n",
        "    print(four)\n",
        "if cookie == 5:\n",
        "    print(five)"
      ]
    }
  ]
}